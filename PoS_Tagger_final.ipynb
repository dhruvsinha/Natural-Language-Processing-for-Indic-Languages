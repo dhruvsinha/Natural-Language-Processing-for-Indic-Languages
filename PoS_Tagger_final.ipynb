{
  "nbformat": 4,
  "nbformat_minor": 0,
  "metadata": {
    "colab": {
      "name": "PoS Tagger.ipynb",
      "provenance": [],
      "collapsed_sections": []
    },
    "kernelspec": {
      "name": "python3",
      "display_name": "Python 3"
    },
    "language_info": {
      "name": "python"
    }
  },
  "cells": [
    {
      "cell_type": "code",
      "execution_count": 1,
      "metadata": {
        "id": "oOAycoxJMQza",
        "colab": {
          "base_uri": "https://localhost:8080/"
        },
        "outputId": "7573646e-e96b-419e-b37c-c1ae8315c461"
      },
      "outputs": [
        {
          "output_type": "stream",
          "name": "stdout",
          "text": [
            "Looking in indexes: https://pypi.org/simple, https://us-python.pkg.dev/colab-wheels/public/simple/\n",
            "Collecting indic-nlp-library\n",
            "  Downloading indic_nlp_library-0.81-py3-none-any.whl (40 kB)\n",
            "\u001b[K     |████████████████████████████████| 40 kB 4.7 MB/s \n",
            "\u001b[?25hCollecting sphinx-rtd-theme\n",
            "  Downloading sphinx_rtd_theme-1.0.0-py2.py3-none-any.whl (2.8 MB)\n",
            "\u001b[K     |████████████████████████████████| 2.8 MB 42.6 MB/s \n",
            "\u001b[?25hRequirement already satisfied: numpy in /usr/local/lib/python3.7/dist-packages (from indic-nlp-library) (1.21.6)\n",
            "Collecting sphinx-argparse\n",
            "  Downloading sphinx_argparse-0.3.1-py2.py3-none-any.whl (12 kB)\n",
            "Requirement already satisfied: pandas in /usr/local/lib/python3.7/dist-packages (from indic-nlp-library) (1.3.5)\n",
            "Collecting morfessor\n",
            "  Downloading Morfessor-2.0.6-py3-none-any.whl (35 kB)\n",
            "Requirement already satisfied: python-dateutil>=2.7.3 in /usr/local/lib/python3.7/dist-packages (from pandas->indic-nlp-library) (2.8.2)\n",
            "Requirement already satisfied: pytz>=2017.3 in /usr/local/lib/python3.7/dist-packages (from pandas->indic-nlp-library) (2022.1)\n",
            "Requirement already satisfied: six>=1.5 in /usr/local/lib/python3.7/dist-packages (from python-dateutil>=2.7.3->pandas->indic-nlp-library) (1.15.0)\n",
            "Requirement already satisfied: sphinx>=1.2.0 in /usr/local/lib/python3.7/dist-packages (from sphinx-argparse->indic-nlp-library) (1.8.6)\n",
            "Requirement already satisfied: requests>=2.0.0 in /usr/local/lib/python3.7/dist-packages (from sphinx>=1.2.0->sphinx-argparse->indic-nlp-library) (2.23.0)\n",
            "Requirement already satisfied: packaging in /usr/local/lib/python3.7/dist-packages (from sphinx>=1.2.0->sphinx-argparse->indic-nlp-library) (21.3)\n",
            "Requirement already satisfied: babel!=2.0,>=1.3 in /usr/local/lib/python3.7/dist-packages (from sphinx>=1.2.0->sphinx-argparse->indic-nlp-library) (2.10.1)\n",
            "Requirement already satisfied: Jinja2>=2.3 in /usr/local/lib/python3.7/dist-packages (from sphinx>=1.2.0->sphinx-argparse->indic-nlp-library) (2.11.3)\n",
            "Requirement already satisfied: snowballstemmer>=1.1 in /usr/local/lib/python3.7/dist-packages (from sphinx>=1.2.0->sphinx-argparse->indic-nlp-library) (2.2.0)\n",
            "Requirement already satisfied: docutils<0.18,>=0.11 in /usr/local/lib/python3.7/dist-packages (from sphinx>=1.2.0->sphinx-argparse->indic-nlp-library) (0.17.1)\n",
            "Requirement already satisfied: sphinxcontrib-websupport in /usr/local/lib/python3.7/dist-packages (from sphinx>=1.2.0->sphinx-argparse->indic-nlp-library) (1.2.4)\n",
            "Requirement already satisfied: Pygments>=2.0 in /usr/local/lib/python3.7/dist-packages (from sphinx>=1.2.0->sphinx-argparse->indic-nlp-library) (2.6.1)\n",
            "Requirement already satisfied: alabaster<0.8,>=0.7 in /usr/local/lib/python3.7/dist-packages (from sphinx>=1.2.0->sphinx-argparse->indic-nlp-library) (0.7.12)\n",
            "Requirement already satisfied: setuptools in /usr/local/lib/python3.7/dist-packages (from sphinx>=1.2.0->sphinx-argparse->indic-nlp-library) (57.4.0)\n",
            "Requirement already satisfied: imagesize in /usr/local/lib/python3.7/dist-packages (from sphinx>=1.2.0->sphinx-argparse->indic-nlp-library) (1.3.0)\n",
            "Requirement already satisfied: MarkupSafe>=0.23 in /usr/local/lib/python3.7/dist-packages (from Jinja2>=2.3->sphinx>=1.2.0->sphinx-argparse->indic-nlp-library) (2.0.1)\n",
            "Requirement already satisfied: urllib3!=1.25.0,!=1.25.1,<1.26,>=1.21.1 in /usr/local/lib/python3.7/dist-packages (from requests>=2.0.0->sphinx>=1.2.0->sphinx-argparse->indic-nlp-library) (1.24.3)\n",
            "Requirement already satisfied: idna<3,>=2.5 in /usr/local/lib/python3.7/dist-packages (from requests>=2.0.0->sphinx>=1.2.0->sphinx-argparse->indic-nlp-library) (2.10)\n",
            "Requirement already satisfied: certifi>=2017.4.17 in /usr/local/lib/python3.7/dist-packages (from requests>=2.0.0->sphinx>=1.2.0->sphinx-argparse->indic-nlp-library) (2022.5.18.1)\n",
            "Requirement already satisfied: chardet<4,>=3.0.2 in /usr/local/lib/python3.7/dist-packages (from requests>=2.0.0->sphinx>=1.2.0->sphinx-argparse->indic-nlp-library) (3.0.4)\n",
            "Requirement already satisfied: pyparsing!=3.0.5,>=2.0.2 in /usr/local/lib/python3.7/dist-packages (from packaging->sphinx>=1.2.0->sphinx-argparse->indic-nlp-library) (3.0.9)\n",
            "Requirement already satisfied: sphinxcontrib-serializinghtml in /usr/local/lib/python3.7/dist-packages (from sphinxcontrib-websupport->sphinx>=1.2.0->sphinx-argparse->indic-nlp-library) (1.1.5)\n",
            "Installing collected packages: sphinx-rtd-theme, sphinx-argparse, morfessor, indic-nlp-library\n",
            "Successfully installed indic-nlp-library-0.81 morfessor-2.0.6 sphinx-argparse-0.3.1 sphinx-rtd-theme-1.0.0\n",
            "Looking in indexes: https://pypi.org/simple, https://us-python.pkg.dev/colab-wheels/public/simple/\n",
            "Requirement already satisfied: torch in /usr/local/lib/python3.7/dist-packages (1.11.0+cu113)\n",
            "Requirement already satisfied: typing-extensions in /usr/local/lib/python3.7/dist-packages (from torch) (4.2.0)\n",
            "Looking in indexes: https://pypi.org/simple, https://us-python.pkg.dev/colab-wheels/public/simple/\n",
            "Requirement already satisfied: torchtext in /usr/local/lib/python3.7/dist-packages (0.12.0)\n",
            "Requirement already satisfied: numpy in /usr/local/lib/python3.7/dist-packages (from torchtext) (1.21.6)\n",
            "Requirement already satisfied: tqdm in /usr/local/lib/python3.7/dist-packages (from torchtext) (4.64.0)\n",
            "Requirement already satisfied: torch==1.11.0 in /usr/local/lib/python3.7/dist-packages (from torchtext) (1.11.0+cu113)\n",
            "Requirement already satisfied: requests in /usr/local/lib/python3.7/dist-packages (from torchtext) (2.23.0)\n",
            "Requirement already satisfied: typing-extensions in /usr/local/lib/python3.7/dist-packages (from torch==1.11.0->torchtext) (4.2.0)\n",
            "Requirement already satisfied: chardet<4,>=3.0.2 in /usr/local/lib/python3.7/dist-packages (from requests->torchtext) (3.0.4)\n",
            "Requirement already satisfied: idna<3,>=2.5 in /usr/local/lib/python3.7/dist-packages (from requests->torchtext) (2.10)\n",
            "Requirement already satisfied: certifi>=2017.4.17 in /usr/local/lib/python3.7/dist-packages (from requests->torchtext) (2022.5.18.1)\n",
            "Requirement already satisfied: urllib3!=1.25.0,!=1.25.1,<1.26,>=1.21.1 in /usr/local/lib/python3.7/dist-packages (from requests->torchtext) (1.24.3)\n",
            "Looking in indexes: https://pypi.org/simple, https://us-python.pkg.dev/colab-wheels/public/simple/\n",
            "Requirement already satisfied: spacy in /usr/local/lib/python3.7/dist-packages (2.2.4)\n",
            "Requirement already satisfied: cymem<2.1.0,>=2.0.2 in /usr/local/lib/python3.7/dist-packages (from spacy) (2.0.6)\n",
            "Requirement already satisfied: catalogue<1.1.0,>=0.0.7 in /usr/local/lib/python3.7/dist-packages (from spacy) (1.0.0)\n",
            "Requirement already satisfied: setuptools in /usr/local/lib/python3.7/dist-packages (from spacy) (57.4.0)\n",
            "Requirement already satisfied: wasabi<1.1.0,>=0.4.0 in /usr/local/lib/python3.7/dist-packages (from spacy) (0.9.1)\n",
            "Requirement already satisfied: numpy>=1.15.0 in /usr/local/lib/python3.7/dist-packages (from spacy) (1.21.6)\n",
            "Requirement already satisfied: preshed<3.1.0,>=3.0.2 in /usr/local/lib/python3.7/dist-packages (from spacy) (3.0.6)\n",
            "Requirement already satisfied: plac<1.2.0,>=0.9.6 in /usr/local/lib/python3.7/dist-packages (from spacy) (1.1.3)\n",
            "Requirement already satisfied: requests<3.0.0,>=2.13.0 in /usr/local/lib/python3.7/dist-packages (from spacy) (2.23.0)\n",
            "Requirement already satisfied: murmurhash<1.1.0,>=0.28.0 in /usr/local/lib/python3.7/dist-packages (from spacy) (1.0.7)\n",
            "Requirement already satisfied: tqdm<5.0.0,>=4.38.0 in /usr/local/lib/python3.7/dist-packages (from spacy) (4.64.0)\n",
            "Requirement already satisfied: thinc==7.4.0 in /usr/local/lib/python3.7/dist-packages (from spacy) (7.4.0)\n",
            "Requirement already satisfied: srsly<1.1.0,>=1.0.2 in /usr/local/lib/python3.7/dist-packages (from spacy) (1.0.5)\n",
            "Requirement already satisfied: blis<0.5.0,>=0.4.0 in /usr/local/lib/python3.7/dist-packages (from spacy) (0.4.1)\n",
            "Requirement already satisfied: importlib-metadata>=0.20 in /usr/local/lib/python3.7/dist-packages (from catalogue<1.1.0,>=0.0.7->spacy) (4.11.3)\n",
            "Requirement already satisfied: zipp>=0.5 in /usr/local/lib/python3.7/dist-packages (from importlib-metadata>=0.20->catalogue<1.1.0,>=0.0.7->spacy) (3.8.0)\n",
            "Requirement already satisfied: typing-extensions>=3.6.4 in /usr/local/lib/python3.7/dist-packages (from importlib-metadata>=0.20->catalogue<1.1.0,>=0.0.7->spacy) (4.2.0)\n",
            "Requirement already satisfied: certifi>=2017.4.17 in /usr/local/lib/python3.7/dist-packages (from requests<3.0.0,>=2.13.0->spacy) (2022.5.18.1)\n",
            "Requirement already satisfied: chardet<4,>=3.0.2 in /usr/local/lib/python3.7/dist-packages (from requests<3.0.0,>=2.13.0->spacy) (3.0.4)\n",
            "Requirement already satisfied: idna<3,>=2.5 in /usr/local/lib/python3.7/dist-packages (from requests<3.0.0,>=2.13.0->spacy) (2.10)\n",
            "Requirement already satisfied: urllib3!=1.25.0,!=1.25.1,<1.26,>=1.21.1 in /usr/local/lib/python3.7/dist-packages (from requests<3.0.0,>=2.13.0->spacy) (1.24.3)\n",
            "Looking in indexes: https://pypi.org/simple, https://us-python.pkg.dev/colab-wheels/public/simple/\n",
            "Collecting torchdata\n",
            "  Downloading torchdata-0.3.0-py3-none-any.whl (47 kB)\n",
            "\u001b[K     |████████████████████████████████| 47 kB 4.8 MB/s \n",
            "\u001b[?25hRequirement already satisfied: requests in /usr/local/lib/python3.7/dist-packages (from torchdata) (2.23.0)\n",
            "Requirement already satisfied: torch==1.11.0 in /usr/local/lib/python3.7/dist-packages (from torchdata) (1.11.0+cu113)\n",
            "Collecting urllib3>=1.25\n",
            "  Downloading urllib3-1.26.9-py2.py3-none-any.whl (138 kB)\n",
            "\u001b[K     |████████████████████████████████| 138 kB 49.1 MB/s \n",
            "\u001b[?25hRequirement already satisfied: typing-extensions in /usr/local/lib/python3.7/dist-packages (from torch==1.11.0->torchdata) (4.2.0)\n",
            "Requirement already satisfied: idna<3,>=2.5 in /usr/local/lib/python3.7/dist-packages (from requests->torchdata) (2.10)\n",
            "Requirement already satisfied: chardet<4,>=3.0.2 in /usr/local/lib/python3.7/dist-packages (from requests->torchdata) (3.0.4)\n",
            "  Downloading urllib3-1.25.11-py2.py3-none-any.whl (127 kB)\n",
            "\u001b[K     |████████████████████████████████| 127 kB 51.9 MB/s \n",
            "\u001b[?25hRequirement already satisfied: certifi>=2017.4.17 in /usr/local/lib/python3.7/dist-packages (from requests->torchdata) (2022.5.18.1)\n",
            "Installing collected packages: urllib3, torchdata\n",
            "  Attempting uninstall: urllib3\n",
            "    Found existing installation: urllib3 1.24.3\n",
            "    Uninstalling urllib3-1.24.3:\n",
            "      Successfully uninstalled urllib3-1.24.3\n",
            "\u001b[31mERROR: pip's dependency resolver does not currently take into account all the packages that are installed. This behaviour is the source of the following dependency conflicts.\n",
            "datascience 0.10.6 requires folium==0.2.1, but you have folium 0.8.3 which is incompatible.\u001b[0m\n",
            "Successfully installed torchdata-0.3.0 urllib3-1.25.11\n"
          ]
        }
      ],
      "source": [
        "!pip install indic-nlp-library\n",
        "!pip install torch\n",
        "!pip install torchtext\n",
        "!pip install spacy\n",
        "!pip install torchdata"
      ]
    },
    {
      "cell_type": "code",
      "source": [
        "import torch\n",
        "import torch.nn as nn\n",
        "import torch.optim as optim\n",
        "import torch.nn.functional as F\n",
        "\n",
        "import torchtext\n",
        "from torchtext import data\n",
        "from torchtext import datasets\n",
        "\n",
        "from collections import Counter\n",
        "from torchtext.vocab import vocab\n",
        "\n",
        "import numpy as np\n",
        "import random\n",
        "\n",
        "import pandas as pd\n",
        "import re\n",
        "\n",
        "import sys\n",
        "import os"
      ],
      "metadata": {
        "id": "zlV84VFRNjxZ"
      },
      "execution_count": 2,
      "outputs": []
    },
    {
      "cell_type": "code",
      "source": [
        "device = torch.device('cuda' if torch.cuda.is_available() else 'cpu')\n",
        "device"
      ],
      "metadata": {
        "colab": {
          "base_uri": "https://localhost:8080/"
        },
        "id": "D5HWq3XoaAPi",
        "outputId": "5b43d3ad-235b-46ed-98ff-744631275189"
      },
      "execution_count": 3,
      "outputs": [
        {
          "output_type": "execute_result",
          "data": {
            "text/plain": [
              "device(type='cpu')"
            ]
          },
          "metadata": {},
          "execution_count": 3
        }
      ]
    },
    {
      "cell_type": "code",
      "source": [
        "\n",
        "from google.colab import drive \n",
        "drive.mount('/content/gdrive', force_remount=True)\n",
        "%cd /content/gdrive/MyDrive/AML_Project/\n",
        "os.environ['KAGGLE_CONFIG_DIR'] = \"/content/gdrive/MyDrive/AML_Project\""
      ],
      "metadata": {
        "colab": {
          "base_uri": "https://localhost:8080/"
        },
        "id": "xjeGG3VnM5N7",
        "outputId": "35cc619a-1117-4fd3-8f07-48676364b545"
      },
      "execution_count": 4,
      "outputs": [
        {
          "output_type": "stream",
          "name": "stdout",
          "text": [
            "Mounted at /content/gdrive\n",
            "/content/gdrive/MyDrive/AML_Project\n"
          ]
        }
      ]
    },
    {
      "cell_type": "code",
      "source": [
        "\n",
        "\n",
        "df = pd.DataFrame(columns=['sentence'])\n",
        "with open('/content/gdrive/MyDrive/AML_Project/tagger_data/newTrainH1.txt',encoding=\"utf8\") as fp:\n",
        "   line = fp.readline()\n",
        "   cnt = 0\n",
        "   while line:\n",
        "       #print(\"Line {}: {}\".format(cnt, line.strip()))\n",
        "       line = fp.readline()\n",
        "       line = line.replace('_', '')\n",
        "       df.loc[cnt, ['sentence']] = line\n",
        "       cnt += 1 \n",
        "       \n",
        "\n",
        "def split_for_tagger(sentence):\n",
        "    res = re.findall(r'\\[.*?\\]', sentence)\n",
        "    RES= []\n",
        "    for elem in res:\n",
        "        #print(elem)\n",
        "        a = elem.replace('[','').replace(']','')\n",
        "        b = a.replace(\" \",\"\")\n",
        "        RES.append(b)\n",
        "    return RES\n",
        "\n",
        "def split_for_word(sentence):\n",
        "    string = re.sub(\"\\[.*?\\]\",\"\",sentence)\n",
        "    c= string.split()\n",
        "    return c\n",
        "    \n",
        "df['pos'] = df['sentence'].apply(split_for_tagger)\n",
        "df['clean_sentence'] = df['sentence'].apply(split_for_word)\n",
        "    \n",
        "df.drop(['sentence'], axis=1, inplace= True)\n"
      ],
      "metadata": {
        "id": "MglhH4rZMj7v"
      },
      "execution_count": 5,
      "outputs": []
    },
    {
      "cell_type": "code",
      "source": [
        "df"
      ],
      "metadata": {
        "colab": {
          "base_uri": "https://localhost:8080/",
          "height": 423
        },
        "id": "896U7nksNVH2",
        "outputId": "0d251109-383a-4f03-c4a4-74dbad79ad3b"
      },
      "execution_count": 5,
      "outputs": [
        {
          "output_type": "execute_result",
          "data": {
            "text/plain": [
              "                                                    pos  \\\n",
              "0     [JJ, NN, PSP, NN, SYM, PRP, NN, SYM, NN, PSP, ...   \n",
              "1     [JJ, SYM, JJ, SYM, NST, VM, PSP, JJ, NN, PSP, ...   \n",
              "2     [PRP, NN, PSP, INTF, JJ, NN, PRP, NN, VM, VAUX...   \n",
              "3     [PRP, NN, VM, CC, CC, PRP, SYM, NN, SYM, CC, S...   \n",
              "4     [CC, PRP, PRP, PRP, NN, PSP, NN, VM, VAUX, VAU...   \n",
              "...                                                 ...   \n",
              "2595  [NNP, PSP, VM, SYM, SYM, NNP, CC, NNP, JJ, JJ,...   \n",
              "2596  [PRP, JJ, NN, PSP, QO, NN, NN, NNP, PSP, NNP, ...   \n",
              "2597  [NNP, PSP, DEM, NNP, VM, PRP, DEM, NN, NNP, NN...   \n",
              "2598  [NN, PSP, JJ, NN, NNP, PSP, NNP, NNP, NNP, VM,...   \n",
              "2599                                                 []   \n",
              "\n",
              "                                         clean_sentence  \n",
              "0     [पुरानी, पीढ़ी, के, भारतीय, --, हमारे, पिता-पित...  \n",
              "1     [बदमिज़ाज, ,, चिड़चिड़े, ,, दूर-दूर, रहने, वाले, ...  \n",
              "2     [अपनी, ऐंठ, में, थोड़ा-बहुत, भद्र, पीढ़ी-दर-पीढ़ी...  \n",
              "3     [मुझे, विश्वास, है, कि, अगर, उनकी, `, खुशमिज़ाज...  \n",
              "4     [और, जब, मैं, अपने, पिता, की, बात, कर, रहा, हू...  \n",
              "...                                                 ...  \n",
              "2595  [शिराक़, ने, कहा, ,, \", यूरोप, और, अमरीका, सच्...  \n",
              "2596  [अपने, यूरोपीय, दौरे, के, दूसरे, दिन, राष्ट्रप...  \n",
              "2597  [बुधवार, को, वे, जर्मनी, जाएँगे, जहाँ, वे, चां...  \n",
              "2598  [दौरे, के, अंतिम, दिन, गुरूवार, को, जॉर्ज, बुश...  \n",
              "2599                                                 []  \n",
              "\n",
              "[2600 rows x 2 columns]"
            ],
            "text/html": [
              "\n",
              "  <div id=\"df-a9395aba-ed5f-4670-8700-d8e5730387d8\">\n",
              "    <div class=\"colab-df-container\">\n",
              "      <div>\n",
              "<style scoped>\n",
              "    .dataframe tbody tr th:only-of-type {\n",
              "        vertical-align: middle;\n",
              "    }\n",
              "\n",
              "    .dataframe tbody tr th {\n",
              "        vertical-align: top;\n",
              "    }\n",
              "\n",
              "    .dataframe thead th {\n",
              "        text-align: right;\n",
              "    }\n",
              "</style>\n",
              "<table border=\"1\" class=\"dataframe\">\n",
              "  <thead>\n",
              "    <tr style=\"text-align: right;\">\n",
              "      <th></th>\n",
              "      <th>pos</th>\n",
              "      <th>clean_sentence</th>\n",
              "    </tr>\n",
              "  </thead>\n",
              "  <tbody>\n",
              "    <tr>\n",
              "      <th>0</th>\n",
              "      <td>[JJ, NN, PSP, NN, SYM, PRP, NN, SYM, NN, PSP, ...</td>\n",
              "      <td>[पुरानी, पीढ़ी, के, भारतीय, --, हमारे, पिता-पित...</td>\n",
              "    </tr>\n",
              "    <tr>\n",
              "      <th>1</th>\n",
              "      <td>[JJ, SYM, JJ, SYM, NST, VM, PSP, JJ, NN, PSP, ...</td>\n",
              "      <td>[बदमिज़ाज, ,, चिड़चिड़े, ,, दूर-दूर, रहने, वाले, ...</td>\n",
              "    </tr>\n",
              "    <tr>\n",
              "      <th>2</th>\n",
              "      <td>[PRP, NN, PSP, INTF, JJ, NN, PRP, NN, VM, VAUX...</td>\n",
              "      <td>[अपनी, ऐंठ, में, थोड़ा-बहुत, भद्र, पीढ़ी-दर-पीढ़ी...</td>\n",
              "    </tr>\n",
              "    <tr>\n",
              "      <th>3</th>\n",
              "      <td>[PRP, NN, VM, CC, CC, PRP, SYM, NN, SYM, CC, S...</td>\n",
              "      <td>[मुझे, विश्वास, है, कि, अगर, उनकी, `, खुशमिज़ाज...</td>\n",
              "    </tr>\n",
              "    <tr>\n",
              "      <th>4</th>\n",
              "      <td>[CC, PRP, PRP, PRP, NN, PSP, NN, VM, VAUX, VAU...</td>\n",
              "      <td>[और, जब, मैं, अपने, पिता, की, बात, कर, रहा, हू...</td>\n",
              "    </tr>\n",
              "    <tr>\n",
              "      <th>...</th>\n",
              "      <td>...</td>\n",
              "      <td>...</td>\n",
              "    </tr>\n",
              "    <tr>\n",
              "      <th>2595</th>\n",
              "      <td>[NNP, PSP, VM, SYM, SYM, NNP, CC, NNP, JJ, JJ,...</td>\n",
              "      <td>[शिराक़, ने, कहा, ,, \", यूरोप, और, अमरीका, सच्...</td>\n",
              "    </tr>\n",
              "    <tr>\n",
              "      <th>2596</th>\n",
              "      <td>[PRP, JJ, NN, PSP, QO, NN, NN, NNP, PSP, NNP, ...</td>\n",
              "      <td>[अपने, यूरोपीय, दौरे, के, दूसरे, दिन, राष्ट्रप...</td>\n",
              "    </tr>\n",
              "    <tr>\n",
              "      <th>2597</th>\n",
              "      <td>[NNP, PSP, DEM, NNP, VM, PRP, DEM, NN, NNP, NN...</td>\n",
              "      <td>[बुधवार, को, वे, जर्मनी, जाएँगे, जहाँ, वे, चां...</td>\n",
              "    </tr>\n",
              "    <tr>\n",
              "      <th>2598</th>\n",
              "      <td>[NN, PSP, JJ, NN, NNP, PSP, NNP, NNP, NNP, VM,...</td>\n",
              "      <td>[दौरे, के, अंतिम, दिन, गुरूवार, को, जॉर्ज, बुश...</td>\n",
              "    </tr>\n",
              "    <tr>\n",
              "      <th>2599</th>\n",
              "      <td>[]</td>\n",
              "      <td>[]</td>\n",
              "    </tr>\n",
              "  </tbody>\n",
              "</table>\n",
              "<p>2600 rows × 2 columns</p>\n",
              "</div>\n",
              "      <button class=\"colab-df-convert\" onclick=\"convertToInteractive('df-a9395aba-ed5f-4670-8700-d8e5730387d8')\"\n",
              "              title=\"Convert this dataframe to an interactive table.\"\n",
              "              style=\"display:none;\">\n",
              "        \n",
              "  <svg xmlns=\"http://www.w3.org/2000/svg\" height=\"24px\"viewBox=\"0 0 24 24\"\n",
              "       width=\"24px\">\n",
              "    <path d=\"M0 0h24v24H0V0z\" fill=\"none\"/>\n",
              "    <path d=\"M18.56 5.44l.94 2.06.94-2.06 2.06-.94-2.06-.94-.94-2.06-.94 2.06-2.06.94zm-11 1L8.5 8.5l.94-2.06 2.06-.94-2.06-.94L8.5 2.5l-.94 2.06-2.06.94zm10 10l.94 2.06.94-2.06 2.06-.94-2.06-.94-.94-2.06-.94 2.06-2.06.94z\"/><path d=\"M17.41 7.96l-1.37-1.37c-.4-.4-.92-.59-1.43-.59-.52 0-1.04.2-1.43.59L10.3 9.45l-7.72 7.72c-.78.78-.78 2.05 0 2.83L4 21.41c.39.39.9.59 1.41.59.51 0 1.02-.2 1.41-.59l7.78-7.78 2.81-2.81c.8-.78.8-2.07 0-2.86zM5.41 20L4 18.59l7.72-7.72 1.47 1.35L5.41 20z\"/>\n",
              "  </svg>\n",
              "      </button>\n",
              "      \n",
              "  <style>\n",
              "    .colab-df-container {\n",
              "      display:flex;\n",
              "      flex-wrap:wrap;\n",
              "      gap: 12px;\n",
              "    }\n",
              "\n",
              "    .colab-df-convert {\n",
              "      background-color: #E8F0FE;\n",
              "      border: none;\n",
              "      border-radius: 50%;\n",
              "      cursor: pointer;\n",
              "      display: none;\n",
              "      fill: #1967D2;\n",
              "      height: 32px;\n",
              "      padding: 0 0 0 0;\n",
              "      width: 32px;\n",
              "    }\n",
              "\n",
              "    .colab-df-convert:hover {\n",
              "      background-color: #E2EBFA;\n",
              "      box-shadow: 0px 1px 2px rgba(60, 64, 67, 0.3), 0px 1px 3px 1px rgba(60, 64, 67, 0.15);\n",
              "      fill: #174EA6;\n",
              "    }\n",
              "\n",
              "    [theme=dark] .colab-df-convert {\n",
              "      background-color: #3B4455;\n",
              "      fill: #D2E3FC;\n",
              "    }\n",
              "\n",
              "    [theme=dark] .colab-df-convert:hover {\n",
              "      background-color: #434B5C;\n",
              "      box-shadow: 0px 1px 3px 1px rgba(0, 0, 0, 0.15);\n",
              "      filter: drop-shadow(0px 1px 2px rgba(0, 0, 0, 0.3));\n",
              "      fill: #FFFFFF;\n",
              "    }\n",
              "  </style>\n",
              "\n",
              "      <script>\n",
              "        const buttonEl =\n",
              "          document.querySelector('#df-a9395aba-ed5f-4670-8700-d8e5730387d8 button.colab-df-convert');\n",
              "        buttonEl.style.display =\n",
              "          google.colab.kernel.accessAllowed ? 'block' : 'none';\n",
              "\n",
              "        async function convertToInteractive(key) {\n",
              "          const element = document.querySelector('#df-a9395aba-ed5f-4670-8700-d8e5730387d8');\n",
              "          const dataTable =\n",
              "            await google.colab.kernel.invokeFunction('convertToInteractive',\n",
              "                                                     [key], {});\n",
              "          if (!dataTable) return;\n",
              "\n",
              "          const docLinkHtml = 'Like what you see? Visit the ' +\n",
              "            '<a target=\"_blank\" href=https://colab.research.google.com/notebooks/data_table.ipynb>data table notebook</a>'\n",
              "            + ' to learn more about interactive tables.';\n",
              "          element.innerHTML = '';\n",
              "          dataTable['output_type'] = 'display_data';\n",
              "          await google.colab.output.renderOutput(dataTable, element);\n",
              "          const docLink = document.createElement('div');\n",
              "          docLink.innerHTML = docLinkHtml;\n",
              "          element.appendChild(docLink);\n",
              "        }\n",
              "      </script>\n",
              "    </div>\n",
              "  </div>\n",
              "  "
            ]
          },
          "metadata": {},
          "execution_count": 5
        }
      ]
    },
    {
      "cell_type": "code",
      "source": [
        "df[\"example\"] = df.apply(lambda row: [row.clean_sentence, row.pos], axis=1)"
      ],
      "metadata": {
        "id": "VvfPTFROOAH_"
      },
      "execution_count": 6,
      "outputs": []
    },
    {
      "cell_type": "code",
      "source": [
        "HINDIPOS_ALL = df[[\"example\"]]\n",
        "HINDIPOS = HINDIPOS_ALL.loc[0:1999]\n",
        "\n",
        "HINDIPOS_val = HINDIPOS_ALL.loc[2000:2299]\n",
        "HINDIPOS_val = HINDIPOS_val.reset_index()[[\"example\"]]\n",
        "\n",
        "HINDIPOS_test = HINDIPOS_ALL.loc[2300:2598]\n",
        "HINDIPOS_test = HINDIPOS_test.reset_index()[[\"example\"]]\n"
      ],
      "metadata": {
        "id": "uPJn1niuOUdX"
      },
      "execution_count": 11,
      "outputs": []
    },
    {
      "cell_type": "markdown",
      "source": [
        ""
      ],
      "metadata": {
        "id": "S7Z2DkvDZNvD"
      }
    },
    {
      "cell_type": "code",
      "source": [
        "from torch.utils.data import Dataset, DataLoader\n",
        "# create custom dataset class\n",
        "class CustomTextDataset(Dataset):\n",
        "    def __init__(self, df):\n",
        "        self.examples = df.iloc[:,0]\n",
        " \n",
        "    def __len__(self):\n",
        "        return len(self.examples)\n",
        "\n",
        "    def __getitem__(self, idx):\n",
        "        if idx >= self.__len__():\n",
        "          raise StopIteration\n",
        "        example = self.examples[idx]\n",
        "        return example"
      ],
      "metadata": {
        "id": "okjqIw2pOjVb"
      },
      "execution_count": 12,
      "outputs": []
    },
    {
      "cell_type": "markdown",
      "source": [
        "### Doing Preprocessing"
      ],
      "metadata": {
        "id": "FibRKQIAZXRu"
      }
    },
    {
      "cell_type": "code",
      "source": [
        "W = 1\n",
        "WINDOW_SIZE = (2 * W + 1)\n",
        "\n",
        "SENT_START_WORD = '<s>'\n",
        "SENT_END_WORD = '</s>'\n",
        "SENT_START_TAG = '<STAG>'\n",
        "SENT_END_TAG = '<ETAG>'\n",
        "\n",
        "\n",
        "\n",
        "def add_sent_start_end(data_iter, w):\n",
        "    for (words, ud_tags) in data_iter:\n",
        "        new_words = [SENT_START_WORD] * w + words + [SENT_END_WORD] * w\n",
        "        new_ud_tags = [SENT_START_TAG] * w + ud_tags + [SENT_END_TAG] * w\n",
        "        yield(new_words, new_ud_tags)\n",
        "        \n",
        "def create_windows(data_iter, w):\n",
        "    window_size = 2*w + 1\n",
        "    for (words, ud_tags) in data_iter:\n",
        "        words_zip = zip(*[words[i:] for i in range(window_size)])\n",
        "        ud_zip = zip(*[ud_tags[i:] for i in range(window_size)])\n",
        "        ## ADD YOUR CODE ABOVE\n",
        "        for word_sseq, ud_sseq in zip(\n",
        "                words_zip, ud_zip):\n",
        "            yield(word_sseq, ud_sseq)\n",
        "            \n",
        "def preprocess_data_seq(data_iter, w):\n",
        "    ## MISSING PART: ADD YOUR CODE BELOW\n",
        "    data_iter_new = add_sent_start_end(data_iter, w)\n",
        "    rv = create_windows(data_iter_new, w) \n",
        "    return rv"
      ],
      "metadata": {
        "id": "YonIlFzrOq8M"
      },
      "execution_count": 10,
      "outputs": []
    },
    {
      "cell_type": "markdown",
      "source": [
        "### Creating vocabularies for words and tags"
      ],
      "metadata": {
        "id": "R13sSGJ-Zmv-"
      }
    },
    {
      "cell_type": "code",
      "source": [
        "train_iter_0 = CustomTextDataset(HINDIPOS)\n",
        "val_iter_0 = CustomTextDataset(HINDIPOS_val)\n",
        "test_iter_0 = CustomTextDataset(HINDIPOS_test)\n",
        "train_iter_vocab = preprocess_data_seq(train_iter_0, 1)\n",
        "\n",
        "counter_words = Counter()\n",
        "counter_ud = Counter()\n",
        "for (text, pos_ud) in train_iter_vocab:\n",
        "    counter_words.update(text)\n",
        "    counter_ud.update(pos_ud)\n",
        "vocab_words = vocab(counter_words,  specials = ['<unk>'], special_first = True)    \n",
        "vocab_words.set_default_index(0)\n",
        "vocab_ud = vocab(counter_ud)\n",
        "vocab_ud.set_default_index(-1)"
      ],
      "metadata": {
        "id": "EqobKjjRO3eo"
      },
      "execution_count": 19,
      "outputs": []
    },
    {
      "cell_type": "code",
      "source": [
        "TAG = 'ud'\n",
        "def collate_fn(batch, w = W, tag = TAG):\n",
        "    word_idxs= []\n",
        "    labels= []\n",
        "    ## WRITE YOUR CODE BELOW\n",
        "    for ind in range (len(batch)):\n",
        "      word_list= batch[ind][0]\n",
        "      word_idx= []\n",
        "      for word in word_list:\n",
        "        idx= vocab_words[word]\n",
        "        word_idx.append(idx)\n",
        "      center= w\n",
        "      pos= batch[ind][1][center]\n",
        "      pos_idx= vocab_ud[pos]\n",
        "      labels.append(pos_idx)\n",
        "      word_idxs.append(word_idx)\n",
        "    word_idxs= torch.tensor(word_idxs)\n",
        "    labels= torch.tensor(labels)\n",
        "    ## WRITE YOUR CODE ABOVE\n",
        "    # The tensors you return should be placed in the correct device\n",
        "    # as shown below.\n",
        "    return labels.to(device), word_idxs.to(device)"
      ],
      "metadata": {
        "id": "3z4r6Y3CPQzd"
      },
      "execution_count": 20,
      "outputs": []
    },
    {
      "cell_type": "markdown",
      "source": [
        "### Neural Network Model"
      ],
      "metadata": {
        "id": "xllDTMyrbJ4A"
      }
    },
    {
      "cell_type": "code",
      "source": [
        "class NNPOSTagger(nn.Module):\n",
        "    def __init__(self,\n",
        "                 window_size,\n",
        "                 vocab_size, \n",
        "                 embedding_dim, \n",
        "                 hidden_dim, \n",
        "                 output_dim,\n",
        "                 nonlinearity, \n",
        "                 # These are used for later tasks\n",
        "                 use_glove = False, \n",
        "                 freeze_glove = False):      \n",
        "        super(NNPOSTagger, self).__init__()\n",
        "        self.window_size= window_size\n",
        "        self.vocab_size= vocab_size\n",
        "        self.embedding_dim= embedding_dim\n",
        "        self.hidden_dim= hidden_dim\n",
        "        self.output_dim= output_dim\n",
        "        self.nonlinearity= nonlinearity\n",
        "\n",
        "        #self.layer1 = nn.linear((2*w+1)*300, 128)\n",
        "        self.layer1 = nn.Linear(window_size*embedding_dim, hidden_dim)\n",
        "\n",
        "        #self.layer2 = nn.linear(128, len(vocab_ud))\n",
        "        self.layer2 = nn.Linear(hidden_dim, output_dim)\n",
        "        self.embedding = nn.Embedding(vocab_size, embedding_dim)\n",
        "      \n",
        "        \n",
        "    def forward(self, word_idxs_batch):\n",
        "        \n",
        "        ## WRITE YOUR CODE BELOW.\n",
        "\n",
        "        embedded = self.embedding(word_idxs_batch)\n",
        "        embedded_final = embedded.view(len(word_idxs_batch), 900) # transforming 3 x 300 to 1 x 900\n",
        "\n",
        "        output1 = self.layer1(embedded_final) # will be fed into to get h\n",
        "        h = self.nonlinearity(output1) # calculating h\n",
        "        y_tilda = self.layer2(h) #calculating  y-tilde\n",
        "\n",
        "        y_hat= nn.functional.log_softmax(y_tilda, dim=1)\n",
        "\n",
        "        return y_hat # this should be of output dimension shape"
      ],
      "metadata": {
        "id": "xs9LxJ40PQ_B"
      },
      "execution_count": 29,
      "outputs": []
    },
    {
      "cell_type": "code",
      "source": [
        "model = NNPOSTagger(window_size = WINDOW_SIZE, \n",
        "                    vocab_size = len(vocab_words), \n",
        "                     embedding_dim = 300, \n",
        "                     hidden_dim = 128, \n",
        "                     output_dim = len(vocab_ud),\n",
        "                     nonlinearity = nn.Tanh(), \n",
        "                     use_glove = False,\n",
        "                     freeze_glove = False).to(device)\n",
        "                "
      ],
      "metadata": {
        "id": "RP6L_16HPRHy"
      },
      "execution_count": 42,
      "outputs": []
    },
    {
      "cell_type": "markdown",
      "source": [
        "### Training an epoch"
      ],
      "metadata": {
        "id": "hEMHxhbDbbKa"
      }
    },
    {
      "cell_type": "code",
      "source": [
        "loss_function = torch.nn.NLLLoss()\n",
        "\n",
        "def train_an_epoch(dataloader):\n",
        "    \n",
        "    model.train() # Sets the module in training mode.\n",
        "    log_interval = 500\n",
        "    \n",
        "    for idx, (label, text) in enumerate(dataloader):\n",
        "        model.zero_grad()\n",
        "        log_probs = model(text)\n",
        "        loss = loss_function(log_probs, label)\n",
        "        loss.backward()\n",
        "        optimizer.step()\n",
        "        if idx % log_interval == 0 and idx > 0:\n",
        "            print(f'At iteration {idx} the loss is {loss:.3f}.')\n",
        "    "
      ],
      "metadata": {
        "id": "v8ShYfPvbQ_j"
      },
      "execution_count": 31,
      "outputs": []
    },
    {
      "cell_type": "markdown",
      "source": [
        "### Get accuracy"
      ],
      "metadata": {
        "id": "_pJ9svBFcT1F"
      }
    },
    {
      "cell_type": "code",
      "source": [
        "def get_accuracy(dataloader):\n",
        "    model.eval()\n",
        "    with torch.no_grad():    \n",
        "        total_acc, total_count = 0, 0\n",
        "        for idx, (label, word_idxs) in enumerate(dataloader):\n",
        "            log_probs = model(word_idxs)\n",
        "            total_acc += (log_probs.argmax(1) == label).sum().item()\n",
        "            total_count += label.size(0)\n",
        "    return total_acc/total_count"
      ],
      "metadata": {
        "id": "2loLYqvHbeHa"
      },
      "execution_count": 32,
      "outputs": []
    },
    {
      "cell_type": "code",
      "source": [
        "BATCH_SIZE = 64 # batch size for training\n",
        "train_data = list(preprocess_data_seq(train_iter_0, W))\n",
        "\n",
        "\n",
        "train_dataloader = DataLoader(train_data, batch_size=BATCH_SIZE,\n",
        "                              shuffle=True, \n",
        "                              collate_fn=collate_fn)\n",
        "\n",
        "test_data = list(preprocess_data_seq(test_iter_0, W))\n",
        "test_dataloader = DataLoader(test_data, batch_size=BATCH_SIZE,\n",
        "                             shuffle=False, \n",
        "                             collate_fn=collate_fn)\n",
        "\n",
        "val_data = list(preprocess_data_seq(val_iter_0, W))\n",
        "val_dataloader = DataLoader(val_data, batch_size=BATCH_SIZE,\n",
        "                             shuffle=False, \n",
        "                             collate_fn=collate_fn)"
      ],
      "metadata": {
        "id": "CSRGS_gze80X"
      },
      "execution_count": 33,
      "outputs": []
    },
    {
      "cell_type": "code",
      "source": [
        "import time\n",
        "import matplotlib.pyplot as plt\n",
        "%matplotlib inline\n",
        "\n",
        "EPOCHS = 30 # epoch\n",
        "optimizer = torch.optim.Adam(model.parameters(), lr=1e-4)\n",
        "\n",
        "accuracies_val_mod1=[]\n",
        "accuracies_train_mod1=[]\n",
        "for epoch in range(1, EPOCHS + 1):\n",
        "    epoch_start_time = time.time()\n",
        "    train_an_epoch(train_dataloader)\n",
        "    accuracy_train = get_accuracy(train_dataloader)\n",
        "    accuracies_train_mod1.append(accuracy_train)\n",
        "\n",
        "    accuracy_val = get_accuracy(val_dataloader)\n",
        "    accuracies_val_mod1.append(accuracy_val)\n",
        "    time_taken = time.time() - epoch_start_time\n",
        "    print(f'Epoch: {epoch}, time taken: {time_taken:.1f}s, validation accuracy: {accuracy_val:.3f}.')\n",
        "    \n",
        "plt.plot(range(1, EPOCHS+1), accuracies_val_mod1)\n",
        "\n",
        "plt.plot(range(1, EPOCHS+1), accuracies_train_mod1)"
      ],
      "metadata": {
        "colab": {
          "base_uri": "https://localhost:8080/",
          "height": 1000
        },
        "id": "mOlBS7D8j5vm",
        "outputId": "5a04bd6c-370d-4dce-bdda-5fcb4112d14d"
      },
      "execution_count": 43,
      "outputs": [
        {
          "output_type": "stream",
          "name": "stdout",
          "text": [
            "At iteration 500 the loss is 1.719.\n",
            "Epoch: 1, time taken: 13.4s, validation accuracy: 0.633.\n",
            "At iteration 500 the loss is 0.692.\n",
            "Epoch: 2, time taken: 12.9s, validation accuracy: 0.677.\n",
            "At iteration 500 the loss is 0.777.\n",
            "Epoch: 3, time taken: 13.0s, validation accuracy: 0.704.\n",
            "At iteration 500 the loss is 0.735.\n",
            "Epoch: 4, time taken: 12.5s, validation accuracy: 0.721.\n",
            "At iteration 500 the loss is 0.484.\n",
            "Epoch: 5, time taken: 12.3s, validation accuracy: 0.730.\n",
            "At iteration 500 the loss is 0.368.\n",
            "Epoch: 6, time taken: 12.7s, validation accuracy: 0.741.\n",
            "At iteration 500 the loss is 0.258.\n",
            "Epoch: 7, time taken: 12.9s, validation accuracy: 0.748.\n",
            "At iteration 500 the loss is 0.351.\n",
            "Epoch: 8, time taken: 12.3s, validation accuracy: 0.753.\n",
            "At iteration 500 the loss is 0.276.\n",
            "Epoch: 9, time taken: 12.2s, validation accuracy: 0.757.\n",
            "At iteration 500 the loss is 0.173.\n",
            "Epoch: 10, time taken: 12.3s, validation accuracy: 0.759.\n",
            "At iteration 500 the loss is 0.326.\n",
            "Epoch: 11, time taken: 15.5s, validation accuracy: 0.763.\n",
            "At iteration 500 the loss is 0.324.\n",
            "Epoch: 12, time taken: 13.6s, validation accuracy: 0.764.\n",
            "At iteration 500 the loss is 0.243.\n",
            "Epoch: 13, time taken: 14.1s, validation accuracy: 0.767.\n",
            "At iteration 500 the loss is 0.122.\n",
            "Epoch: 14, time taken: 14.3s, validation accuracy: 0.769.\n",
            "At iteration 500 the loss is 0.127.\n",
            "Epoch: 15, time taken: 13.7s, validation accuracy: 0.763.\n",
            "At iteration 500 the loss is 0.180.\n",
            "Epoch: 16, time taken: 12.4s, validation accuracy: 0.770.\n",
            "At iteration 500 the loss is 0.151.\n",
            "Epoch: 17, time taken: 13.0s, validation accuracy: 0.769.\n",
            "At iteration 500 the loss is 0.185.\n",
            "Epoch: 18, time taken: 13.0s, validation accuracy: 0.770.\n",
            "At iteration 500 the loss is 0.083.\n",
            "Epoch: 19, time taken: 13.3s, validation accuracy: 0.771.\n",
            "At iteration 500 the loss is 0.081.\n",
            "Epoch: 20, time taken: 14.8s, validation accuracy: 0.776.\n",
            "At iteration 500 the loss is 0.062.\n",
            "Epoch: 21, time taken: 16.7s, validation accuracy: 0.777.\n",
            "At iteration 500 the loss is 0.059.\n",
            "Epoch: 22, time taken: 14.3s, validation accuracy: 0.779.\n",
            "At iteration 500 the loss is 0.074.\n",
            "Epoch: 23, time taken: 13.8s, validation accuracy: 0.782.\n",
            "At iteration 500 the loss is 0.049.\n",
            "Epoch: 24, time taken: 12.9s, validation accuracy: 0.781.\n",
            "At iteration 500 the loss is 0.168.\n",
            "Epoch: 25, time taken: 16.9s, validation accuracy: 0.782.\n",
            "At iteration 500 the loss is 0.033.\n",
            "Epoch: 26, time taken: 12.7s, validation accuracy: 0.785.\n",
            "At iteration 500 the loss is 0.036.\n",
            "Epoch: 27, time taken: 12.6s, validation accuracy: 0.783.\n",
            "At iteration 500 the loss is 0.048.\n",
            "Epoch: 28, time taken: 12.2s, validation accuracy: 0.785.\n",
            "At iteration 500 the loss is 0.037.\n",
            "Epoch: 29, time taken: 12.3s, validation accuracy: 0.787.\n",
            "At iteration 500 the loss is 0.010.\n",
            "Epoch: 30, time taken: 13.3s, validation accuracy: 0.788.\n"
          ]
        },
        {
          "output_type": "execute_result",
          "data": {
            "text/plain": [
              "[<matplotlib.lines.Line2D at 0x7face88772d0>]"
            ]
          },
          "metadata": {},
          "execution_count": 43
        },
        {
          "output_type": "display_data",
          "data": {
            "text/plain": [
              "<Figure size 432x288 with 1 Axes>"
            ],
            "image/png": "[encoded data removed]"
          },
          "metadata": {
            "needs_background": "light"
          }
        }
      ]
    },
    {
      "cell_type": "code",
      "source": [
        "get_accuracy(test_dataloader)"
      ],
      "metadata": {
        "colab": {
          "base_uri": "https://localhost:8080/"
        },
        "id": "zI40uuoz93DY",
        "outputId": "d29fff55-4534-479f-def0-2eda0835c836"
      },
      "execution_count": 44,
      "outputs": [
        {
          "output_type": "execute_result",
          "data": {
            "text/plain": [
              "0.7261548687271518"
            ]
          },
          "metadata": {},
          "execution_count": 44
        }
      ]
    },
    {
      "cell_type": "code",
      "source": [
        "plt.plot(range(1, EPOCHS+1), accuracies_val_mod1, color='g', label='validation accuracy')\n",
        "plt.plot(range(1, EPOCHS+1), accuracies_train_mod1, color='r', label='training accuracy')\n",
        "\n",
        "plt.xlabel(\"Epochs\")\n",
        "plt.ylabel(\"Accuracy\")\n",
        "plt.title(\"Training and validation accuracies for Model 1\")\n",
        "  \n",
        "# Adding legend, which helps us recognize the curve according to it's color\n",
        "plt.legend()\n",
        "  \n",
        "# To load the display window\n",
        "plt.show()"
      ],
      "metadata": {
        "colab": {
          "base_uri": "https://localhost:8080/",
          "height": 295
        },
        "id": "sQkCUzPoFyfn",
        "outputId": "62095326-331f-4e5c-fb36-621a39609d61"
      },
      "execution_count": 46,
      "outputs": [
        {
          "output_type": "display_data",
          "data": {
            "text/plain": [
              "<Figure size 432x288 with 1 Axes>"
            ],
            "image/png": "[encoded data removed]"
          },
          "metadata": {
            "needs_background": "light"
          }
        }
      ]
    },
    {
      "cell_type": "markdown",
      "source": [
        "### Model 2- changing hidden dimension"
      ],
      "metadata": {
        "id": "9eC6IpCV_xqd"
      }
    },
    {
      "cell_type": "code",
      "source": [
        "model = NNPOSTagger(window_size = WINDOW_SIZE, \n",
        "                    vocab_size = len(vocab_words), \n",
        "                     embedding_dim = 300, \n",
        "                     hidden_dim = 256, \n",
        "                     output_dim = len(vocab_ud),\n",
        "                     nonlinearity = nn.Tanh(), \n",
        "                     use_glove = False,\n",
        "                     freeze_glove = False).to(device)\n",
        "\n",
        "EPOCHS = 30 # epoch\n",
        "optimizer = torch.optim.Adam(model.parameters(), lr=1e-4)\n",
        "\n",
        "accuracies_val_mod2=[]\n",
        "accuracies_train_mod2=[]\n",
        "for epoch in range(1, EPOCHS + 1):\n",
        "    epoch_start_time = time.time()\n",
        "    train_an_epoch(train_dataloader)\n",
        "    accuracy_train = get_accuracy(train_dataloader)\n",
        "    accuracies_train_mod2.append(accuracy_train)\n",
        "\n",
        "    accuracy_val = get_accuracy(val_dataloader)\n",
        "    accuracies_val_mod2.append(accuracy_val)\n",
        "    time_taken = time.time() - epoch_start_time\n",
        "    print(f'Epoch: {epoch}, time taken: {time_taken:.1f}s, validation accuracy: {accuracy_val:.3f}.')"
      ],
      "metadata": {
        "colab": {
          "base_uri": "https://localhost:8080/"
        },
        "id": "1I-RWSyx_4K-",
        "outputId": "912fa0e0-c42d-4c6a-8923-cb9d18bddca7"
      },
      "execution_count": 47,
      "outputs": [
        {
          "output_type": "stream",
          "name": "stdout",
          "text": [
            "At iteration 500 the loss is 1.247.\n",
            "Epoch: 1, time taken: 16.8s, validation accuracy: 0.647.\n",
            "At iteration 500 the loss is 0.754.\n",
            "Epoch: 2, time taken: 13.6s, validation accuracy: 0.692.\n",
            "At iteration 500 the loss is 0.455.\n",
            "Epoch: 3, time taken: 13.6s, validation accuracy: 0.716.\n",
            "At iteration 500 the loss is 0.712.\n",
            "Epoch: 4, time taken: 13.6s, validation accuracy: 0.734.\n",
            "At iteration 500 the loss is 0.388.\n",
            "Epoch: 5, time taken: 13.6s, validation accuracy: 0.746.\n",
            "At iteration 500 the loss is 0.499.\n",
            "Epoch: 6, time taken: 14.1s, validation accuracy: 0.757.\n",
            "At iteration 500 the loss is 0.267.\n",
            "Epoch: 7, time taken: 13.9s, validation accuracy: 0.760.\n",
            "At iteration 500 the loss is 0.380.\n",
            "Epoch: 8, time taken: 13.8s, validation accuracy: 0.772.\n",
            "At iteration 500 the loss is 0.278.\n",
            "Epoch: 9, time taken: 13.9s, validation accuracy: 0.773.\n",
            "At iteration 500 the loss is 0.241.\n",
            "Epoch: 10, time taken: 13.5s, validation accuracy: 0.780.\n",
            "At iteration 500 the loss is 0.306.\n",
            "Epoch: 11, time taken: 13.8s, validation accuracy: 0.780.\n",
            "At iteration 500 the loss is 0.087.\n",
            "Epoch: 12, time taken: 13.6s, validation accuracy: 0.781.\n",
            "At iteration 500 the loss is 0.216.\n",
            "Epoch: 13, time taken: 14.2s, validation accuracy: 0.787.\n",
            "At iteration 500 the loss is 0.096.\n",
            "Epoch: 14, time taken: 13.3s, validation accuracy: 0.784.\n",
            "At iteration 500 the loss is 0.224.\n",
            "Epoch: 15, time taken: 13.8s, validation accuracy: 0.787.\n",
            "At iteration 500 the loss is 0.248.\n",
            "Epoch: 16, time taken: 14.3s, validation accuracy: 0.793.\n",
            "At iteration 500 the loss is 0.067.\n",
            "Epoch: 17, time taken: 13.4s, validation accuracy: 0.795.\n",
            "At iteration 500 the loss is 0.138.\n",
            "Epoch: 18, time taken: 13.7s, validation accuracy: 0.797.\n",
            "At iteration 500 the loss is 0.059.\n",
            "Epoch: 19, time taken: 13.8s, validation accuracy: 0.792.\n",
            "At iteration 500 the loss is 0.063.\n",
            "Epoch: 20, time taken: 13.6s, validation accuracy: 0.791.\n",
            "At iteration 500 the loss is 0.027.\n",
            "Epoch: 21, time taken: 13.8s, validation accuracy: 0.792.\n",
            "At iteration 500 the loss is 0.035.\n",
            "Epoch: 22, time taken: 13.5s, validation accuracy: 0.793.\n",
            "At iteration 500 the loss is 0.030.\n",
            "Epoch: 23, time taken: 13.4s, validation accuracy: 0.793.\n",
            "At iteration 500 the loss is 0.014.\n",
            "Epoch: 24, time taken: 13.7s, validation accuracy: 0.794.\n",
            "At iteration 500 the loss is 0.044.\n",
            "Epoch: 25, time taken: 13.8s, validation accuracy: 0.797.\n",
            "At iteration 500 the loss is 0.019.\n",
            "Epoch: 26, time taken: 13.5s, validation accuracy: 0.798.\n",
            "At iteration 500 the loss is 0.016.\n",
            "Epoch: 27, time taken: 13.5s, validation accuracy: 0.801.\n",
            "At iteration 500 the loss is 0.007.\n",
            "Epoch: 28, time taken: 13.8s, validation accuracy: 0.802.\n",
            "At iteration 500 the loss is 0.120.\n",
            "Epoch: 29, time taken: 13.7s, validation accuracy: 0.802.\n",
            "At iteration 500 the loss is 0.011.\n",
            "Epoch: 30, time taken: 13.7s, validation accuracy: 0.800.\n"
          ]
        }
      ]
    },
    {
      "cell_type": "code",
      "source": [
        "get_accuracy(test_dataloader)"
      ],
      "metadata": {
        "colab": {
          "base_uri": "https://localhost:8080/"
        },
        "id": "BlxUyS1zEM16",
        "outputId": "714a1c14-0204-47cb-e022-14f0149aa89c"
      },
      "execution_count": 48,
      "outputs": [
        {
          "output_type": "execute_result",
          "data": {
            "text/plain": [
              "0.7274842140245928"
            ]
          },
          "metadata": {},
          "execution_count": 48
        }
      ]
    },
    {
      "cell_type": "code",
      "source": [
        "plt.plot(range(1, EPOCHS+1), accuracies_val_mod2, color='g', label='validation accuracy')\n",
        "plt.plot(range(1, EPOCHS+1), accuracies_train_mod2, color='r', label='training accuracy')\n",
        "\n",
        "plt.xlabel(\"Epochs\")\n",
        "plt.ylabel(\"Accuracy\")\n",
        "plt.title(\"Training and validation accuracies for Model 2\")\n",
        "  \n",
        "# Adding legend, which helps us recognize the curve according to it's color\n",
        "plt.legend()\n",
        "  \n",
        "# To load the display window\n",
        "plt.show()"
      ],
      "metadata": {
        "colab": {
          "base_uri": "https://localhost:8080/",
          "height": 295
        },
        "id": "AZAf7zAOGhi_",
        "outputId": "68d59c0e-3133-4ea2-d644-7715a4f24210"
      },
      "execution_count": 50,
      "outputs": [
        {
          "output_type": "display_data",
          "data": {
            "text/plain": [
              "<Figure size 432x288 with 1 Axes>"
            ],
            "image/png": "[encoded data removed]"
          },
          "metadata": {
            "needs_background": "light"
          }
        }
      ]
    },
    {
      "cell_type": "markdown",
      "source": [
        "### Model 3- Introducing sparce weights to reduce overfitting"
      ],
      "metadata": {
        "id": "Z-6Qa0XjMb_q"
      }
    },
    {
      "cell_type": "code",
      "source": [
        "class NNPOSTagger(nn.Module):\n",
        "    def __init__(self,\n",
        "                 window_size,\n",
        "                 vocab_size, \n",
        "                 embedding_dim, \n",
        "                 hidden_dim, \n",
        "                 output_dim,\n",
        "                 nonlinearity, \n",
        "                 # These are used for later tasks\n",
        "                 use_glove = False, \n",
        "                 freeze_glove = False):      \n",
        "        super(NNPOSTagger, self).__init__()\n",
        "        self.window_size= window_size\n",
        "        self.vocab_size= vocab_size\n",
        "        self.embedding_dim= embedding_dim\n",
        "        self.hidden_dim= hidden_dim\n",
        "        self.output_dim= output_dim\n",
        "        self.nonlinearity= nonlinearity\n",
        "\n",
        "        self.layer1 = nn.Linear(window_size*embedding_dim, hidden_dim)\n",
        "\n",
        "        self.layer2 = nn.Linear(hidden_dim, output_dim)\n",
        "        self.embedding = nn.Embedding(vocab_size, embedding_dim, sparse= True)\n",
        "      \n",
        "        \n",
        "    def forward(self, word_idxs_batch):\n",
        "        \n",
        "        ## WRITE YOUR CODE BELOW.\n",
        "\n",
        "        embedded = self.embedding(word_idxs_batch)\n",
        "        embedded_final = embedded.view(len(word_idxs_batch), 600)\n",
        "\n",
        "        output1 = self.layer1(embedded_final) # will be fed into to get h\n",
        "        h = self.nonlinearity(output1) # calculating h\n",
        "        y_tilda = self.layer2(h) #calculating  y-tilde\n",
        "\n",
        "        y_hat= nn.functional.log_softmax(y_tilda, dim=1)\n",
        "\n",
        "        return y_hat # this should be of output dimension shape\n",
        "\n",
        "\n",
        "model = NNPOSTagger(window_size = WINDOW_SIZE, \n",
        "                    vocab_size = len(vocab_words), \n",
        "                     embedding_dim = 200, \n",
        "                     hidden_dim = 64, \n",
        "                     output_dim = len(vocab_ud),\n",
        "                     nonlinearity = nn.Tanh(), \n",
        "                     use_glove = False,\n",
        "                     freeze_glove = False).to(device)\n",
        "\n",
        "EPOCHS = 100 # epoch\n",
        "optimizer = torch.optim.SGD(model.parameters(), lr=1e-4)\n",
        "\n",
        "accuracies_val_mod3=[]\n",
        "accuracies_train_mod3=[]\n",
        "for epoch in range(1, EPOCHS + 1):\n",
        "    epoch_start_time = time.time()\n",
        "    train_an_epoch(train_dataloader)\n",
        "    accuracy_train = get_accuracy(train_dataloader)\n",
        "    accuracies_train_mod3.append(accuracy_train)\n",
        "\n",
        "    accuracy_val = get_accuracy(val_dataloader)\n",
        "    accuracies_val_mod3.append(accuracy_val)\n",
        "    time_taken = time.time() - epoch_start_time\n",
        "    print(f'Epoch: {epoch}, time taken: {time_taken:.1f}s, validation accuracy: {accuracy_val:.3f}.')"
      ],
      "metadata": {
        "colab": {
          "base_uri": "https://localhost:8080/"
        },
        "id": "vy2CzVQZMhlN",
        "outputId": "bc69fec4-4c67-40f0-aee4-2c0e1896c4a3"
      },
      "execution_count": 56,
      "outputs": [
        {
          "output_type": "stream",
          "name": "stdout",
          "text": [
            "At iteration 500 the loss is 3.334.\n",
            "Epoch: 1, time taken: 2.1s, validation accuracy: 0.048.\n",
            "At iteration 500 the loss is 3.272.\n",
            "Epoch: 2, time taken: 1.7s, validation accuracy: 0.098.\n",
            "At iteration 500 the loss is 3.206.\n",
            "Epoch: 3, time taken: 1.7s, validation accuracy: 0.135.\n",
            "At iteration 500 the loss is 3.071.\n",
            "Epoch: 4, time taken: 1.6s, validation accuracy: 0.170.\n",
            "At iteration 500 the loss is 3.068.\n",
            "Epoch: 5, time taken: 1.6s, validation accuracy: 0.202.\n",
            "At iteration 500 the loss is 3.089.\n",
            "Epoch: 6, time taken: 1.6s, validation accuracy: 0.229.\n",
            "At iteration 500 the loss is 2.996.\n",
            "Epoch: 7, time taken: 1.7s, validation accuracy: 0.255.\n",
            "At iteration 500 the loss is 2.843.\n",
            "Epoch: 8, time taken: 1.6s, validation accuracy: 0.280.\n",
            "At iteration 500 the loss is 2.878.\n",
            "Epoch: 9, time taken: 1.7s, validation accuracy: 0.301.\n",
            "At iteration 500 the loss is 2.778.\n",
            "Epoch: 10, time taken: 1.7s, validation accuracy: 0.321.\n",
            "At iteration 500 the loss is 2.803.\n",
            "Epoch: 11, time taken: 1.7s, validation accuracy: 0.332.\n",
            "At iteration 500 the loss is 2.721.\n",
            "Epoch: 12, time taken: 1.6s, validation accuracy: 0.341.\n",
            "At iteration 500 the loss is 2.666.\n",
            "Epoch: 13, time taken: 1.7s, validation accuracy: 0.349.\n",
            "At iteration 500 the loss is 2.501.\n",
            "Epoch: 14, time taken: 1.6s, validation accuracy: 0.360.\n",
            "At iteration 500 the loss is 2.648.\n",
            "Epoch: 15, time taken: 1.6s, validation accuracy: 0.367.\n",
            "At iteration 500 the loss is 2.615.\n",
            "Epoch: 16, time taken: 1.7s, validation accuracy: 0.371.\n",
            "At iteration 500 the loss is 2.749.\n",
            "Epoch: 17, time taken: 1.7s, validation accuracy: 0.379.\n",
            "At iteration 500 the loss is 2.594.\n",
            "Epoch: 18, time taken: 1.7s, validation accuracy: 0.384.\n",
            "At iteration 500 the loss is 2.251.\n",
            "Epoch: 19, time taken: 1.7s, validation accuracy: 0.388.\n",
            "At iteration 500 the loss is 2.434.\n",
            "Epoch: 20, time taken: 1.7s, validation accuracy: 0.390.\n",
            "At iteration 500 the loss is 2.296.\n",
            "Epoch: 21, time taken: 1.7s, validation accuracy: 0.392.\n",
            "At iteration 500 the loss is 2.554.\n",
            "Epoch: 22, time taken: 1.7s, validation accuracy: 0.395.\n",
            "At iteration 500 the loss is 2.398.\n",
            "Epoch: 23, time taken: 1.7s, validation accuracy: 0.400.\n",
            "At iteration 500 the loss is 2.282.\n",
            "Epoch: 24, time taken: 1.7s, validation accuracy: 0.401.\n",
            "At iteration 500 the loss is 2.320.\n",
            "Epoch: 25, time taken: 1.6s, validation accuracy: 0.404.\n",
            "At iteration 500 the loss is 2.323.\n",
            "Epoch: 26, time taken: 1.6s, validation accuracy: 0.405.\n",
            "At iteration 500 the loss is 2.407.\n",
            "Epoch: 27, time taken: 1.7s, validation accuracy: 0.408.\n",
            "At iteration 500 the loss is 2.373.\n",
            "Epoch: 28, time taken: 1.7s, validation accuracy: 0.411.\n",
            "At iteration 500 the loss is 2.066.\n",
            "Epoch: 29, time taken: 1.7s, validation accuracy: 0.415.\n",
            "At iteration 500 the loss is 2.037.\n",
            "Epoch: 30, time taken: 1.7s, validation accuracy: 0.416.\n",
            "At iteration 500 the loss is 1.944.\n",
            "Epoch: 31, time taken: 1.7s, validation accuracy: 0.418.\n",
            "At iteration 500 the loss is 2.161.\n",
            "Epoch: 32, time taken: 1.7s, validation accuracy: 0.419.\n",
            "At iteration 500 the loss is 2.124.\n",
            "Epoch: 33, time taken: 1.7s, validation accuracy: 0.422.\n",
            "At iteration 500 the loss is 2.096.\n",
            "Epoch: 34, time taken: 1.7s, validation accuracy: 0.424.\n",
            "At iteration 500 the loss is 2.194.\n",
            "Epoch: 35, time taken: 1.7s, validation accuracy: 0.426.\n",
            "At iteration 500 the loss is 2.009.\n",
            "Epoch: 36, time taken: 1.7s, validation accuracy: 0.427.\n",
            "At iteration 500 the loss is 2.250.\n",
            "Epoch: 37, time taken: 1.6s, validation accuracy: 0.431.\n",
            "At iteration 500 the loss is 1.944.\n",
            "Epoch: 38, time taken: 1.7s, validation accuracy: 0.433.\n",
            "At iteration 500 the loss is 1.914.\n",
            "Epoch: 39, time taken: 1.7s, validation accuracy: 0.436.\n",
            "At iteration 500 the loss is 1.853.\n",
            "Epoch: 40, time taken: 1.7s, validation accuracy: 0.435.\n",
            "At iteration 500 the loss is 1.952.\n",
            "Epoch: 41, time taken: 1.6s, validation accuracy: 0.435.\n",
            "At iteration 500 the loss is 1.734.\n",
            "Epoch: 42, time taken: 1.6s, validation accuracy: 0.436.\n",
            "At iteration 500 the loss is 1.808.\n",
            "Epoch: 43, time taken: 1.7s, validation accuracy: 0.438.\n",
            "At iteration 500 the loss is 1.921.\n",
            "Epoch: 44, time taken: 1.7s, validation accuracy: 0.441.\n",
            "At iteration 500 the loss is 1.815.\n",
            "Epoch: 45, time taken: 1.6s, validation accuracy: 0.444.\n",
            "At iteration 500 the loss is 1.820.\n",
            "Epoch: 46, time taken: 1.7s, validation accuracy: 0.447.\n",
            "At iteration 500 the loss is 2.013.\n",
            "Epoch: 47, time taken: 1.7s, validation accuracy: 0.448.\n",
            "At iteration 500 the loss is 1.629.\n",
            "Epoch: 48, time taken: 1.6s, validation accuracy: 0.451.\n",
            "At iteration 500 the loss is 2.047.\n",
            "Epoch: 49, time taken: 1.6s, validation accuracy: 0.453.\n",
            "At iteration 500 the loss is 1.378.\n",
            "Epoch: 50, time taken: 1.6s, validation accuracy: 0.455.\n",
            "At iteration 500 the loss is 1.767.\n",
            "Epoch: 51, time taken: 1.6s, validation accuracy: 0.456.\n",
            "At iteration 500 the loss is 2.001.\n",
            "Epoch: 52, time taken: 1.6s, validation accuracy: 0.459.\n",
            "At iteration 500 the loss is 1.833.\n",
            "Epoch: 53, time taken: 1.7s, validation accuracy: 0.462.\n",
            "At iteration 500 the loss is 1.761.\n",
            "Epoch: 54, time taken: 1.7s, validation accuracy: 0.465.\n",
            "At iteration 500 the loss is 1.402.\n",
            "Epoch: 55, time taken: 1.6s, validation accuracy: 0.466.\n",
            "At iteration 500 the loss is 1.788.\n",
            "Epoch: 56, time taken: 1.7s, validation accuracy: 0.469.\n",
            "At iteration 500 the loss is 1.800.\n",
            "Epoch: 57, time taken: 1.7s, validation accuracy: 0.470.\n",
            "At iteration 500 the loss is 1.818.\n",
            "Epoch: 58, time taken: 1.7s, validation accuracy: 0.472.\n",
            "At iteration 500 the loss is 1.523.\n",
            "Epoch: 59, time taken: 1.7s, validation accuracy: 0.475.\n",
            "At iteration 500 the loss is 1.494.\n",
            "Epoch: 60, time taken: 1.6s, validation accuracy: 0.478.\n",
            "At iteration 500 the loss is 1.655.\n",
            "Epoch: 61, time taken: 1.7s, validation accuracy: 0.480.\n",
            "At iteration 500 the loss is 1.491.\n",
            "Epoch: 62, time taken: 1.7s, validation accuracy: 0.481.\n",
            "At iteration 500 the loss is 1.636.\n",
            "Epoch: 63, time taken: 1.6s, validation accuracy: 0.484.\n",
            "At iteration 500 the loss is 1.565.\n",
            "Epoch: 64, time taken: 1.6s, validation accuracy: 0.487.\n",
            "At iteration 500 the loss is 1.884.\n",
            "Epoch: 65, time taken: 1.7s, validation accuracy: 0.488.\n",
            "At iteration 500 the loss is 1.757.\n",
            "Epoch: 66, time taken: 1.7s, validation accuracy: 0.489.\n",
            "At iteration 500 the loss is 1.492.\n",
            "Epoch: 67, time taken: 1.7s, validation accuracy: 0.490.\n",
            "At iteration 500 the loss is 1.558.\n",
            "Epoch: 68, time taken: 1.6s, validation accuracy: 0.494.\n",
            "At iteration 500 the loss is 1.360.\n",
            "Epoch: 69, time taken: 1.6s, validation accuracy: 0.495.\n",
            "At iteration 500 the loss is 1.767.\n",
            "Epoch: 70, time taken: 1.7s, validation accuracy: 0.498.\n",
            "At iteration 500 the loss is 1.446.\n",
            "Epoch: 71, time taken: 1.7s, validation accuracy: 0.499.\n",
            "At iteration 500 the loss is 1.461.\n",
            "Epoch: 72, time taken: 1.7s, validation accuracy: 0.500.\n",
            "At iteration 500 the loss is 1.502.\n",
            "Epoch: 73, time taken: 1.6s, validation accuracy: 0.502.\n",
            "At iteration 500 the loss is 1.523.\n",
            "Epoch: 74, time taken: 1.6s, validation accuracy: 0.504.\n",
            "At iteration 500 the loss is 1.702.\n",
            "Epoch: 75, time taken: 1.6s, validation accuracy: 0.505.\n",
            "At iteration 500 the loss is 1.748.\n",
            "Epoch: 76, time taken: 1.6s, validation accuracy: 0.508.\n",
            "At iteration 500 the loss is 1.575.\n",
            "Epoch: 77, time taken: 1.7s, validation accuracy: 0.511.\n",
            "At iteration 500 the loss is 1.832.\n",
            "Epoch: 78, time taken: 1.6s, validation accuracy: 0.512.\n",
            "At iteration 500 the loss is 1.458.\n",
            "Epoch: 79, time taken: 1.6s, validation accuracy: 0.514.\n",
            "At iteration 500 the loss is 1.870.\n",
            "Epoch: 80, time taken: 1.7s, validation accuracy: 0.515.\n",
            "At iteration 500 the loss is 1.603.\n",
            "Epoch: 81, time taken: 1.6s, validation accuracy: 0.517.\n",
            "At iteration 500 the loss is 1.613.\n",
            "Epoch: 82, time taken: 1.6s, validation accuracy: 0.519.\n",
            "At iteration 500 the loss is 1.964.\n",
            "Epoch: 83, time taken: 1.6s, validation accuracy: 0.520.\n",
            "At iteration 500 the loss is 1.523.\n",
            "Epoch: 84, time taken: 1.7s, validation accuracy: 0.521.\n",
            "At iteration 500 the loss is 1.396.\n",
            "Epoch: 85, time taken: 1.6s, validation accuracy: 0.522.\n",
            "At iteration 500 the loss is 1.523.\n",
            "Epoch: 86, time taken: 1.6s, validation accuracy: 0.524.\n",
            "At iteration 500 the loss is 1.410.\n",
            "Epoch: 87, time taken: 1.7s, validation accuracy: 0.524.\n",
            "At iteration 500 the loss is 1.634.\n",
            "Epoch: 88, time taken: 1.6s, validation accuracy: 0.526.\n",
            "At iteration 500 the loss is 1.525.\n",
            "Epoch: 89, time taken: 1.6s, validation accuracy: 0.528.\n",
            "At iteration 500 the loss is 1.533.\n",
            "Epoch: 90, time taken: 1.7s, validation accuracy: 0.529.\n",
            "At iteration 500 the loss is 1.568.\n",
            "Epoch: 91, time taken: 1.7s, validation accuracy: 0.529.\n",
            "At iteration 500 the loss is 1.555.\n",
            "Epoch: 92, time taken: 1.7s, validation accuracy: 0.531.\n",
            "At iteration 500 the loss is 1.682.\n",
            "Epoch: 93, time taken: 1.7s, validation accuracy: 0.532.\n",
            "At iteration 500 the loss is 1.460.\n",
            "Epoch: 94, time taken: 1.7s, validation accuracy: 0.533.\n",
            "At iteration 500 the loss is 1.590.\n",
            "Epoch: 95, time taken: 1.6s, validation accuracy: 0.533.\n",
            "At iteration 500 the loss is 1.392.\n",
            "Epoch: 96, time taken: 1.7s, validation accuracy: 0.534.\n",
            "At iteration 500 the loss is 1.637.\n",
            "Epoch: 97, time taken: 1.6s, validation accuracy: 0.535.\n",
            "At iteration 500 the loss is 1.623.\n",
            "Epoch: 98, time taken: 1.6s, validation accuracy: 0.536.\n",
            "At iteration 500 the loss is 1.268.\n",
            "Epoch: 99, time taken: 1.6s, validation accuracy: 0.536.\n",
            "At iteration 500 the loss is 1.594.\n",
            "Epoch: 100, time taken: 1.6s, validation accuracy: 0.537.\n"
          ]
        }
      ]
    },
    {
      "cell_type": "code",
      "source": [
        "get_accuracy(test_dataloader)"
      ],
      "metadata": {
        "colab": {
          "base_uri": "https://localhost:8080/"
        },
        "id": "oUgdSPYhOvDG",
        "outputId": "253b20ea-c9e6-4b5b-9e77-185cbdc05bc0"
      },
      "execution_count": 58,
      "outputs": [
        {
          "output_type": "execute_result",
          "data": {
            "text/plain": [
              "0.5706214689265536"
            ]
          },
          "metadata": {},
          "execution_count": 58
        }
      ]
    },
    {
      "cell_type": "code",
      "source": [
        "plt.plot(range(1, EPOCHS+1), accuracies_val_mod3, color='g', label='validation accuracy')\n",
        "plt.plot(range(1, EPOCHS+1), accuracies_train_mod3, color='r', label='training accuracy')\n",
        "\n",
        "plt.xlabel(\"Epochs\")\n",
        "plt.ylabel(\"Accuracy\")\n",
        "plt.title(\"Training and validation accuracies for Model 3\")\n",
        "  \n",
        "# Adding legend, which helps us recognize the curve according to it's color\n",
        "plt.legend()\n",
        "  \n",
        "# To load the display window\n",
        "plt.show()"
      ],
      "metadata": {
        "colab": {
          "base_uri": "https://localhost:8080/",
          "height": 295
        },
        "id": "8XV5ULFZOdHA",
        "outputId": "bbaaf1ab-e082-4d53-e3a6-b2dba9bf56cb"
      },
      "execution_count": 57,
      "outputs": [
        {
          "output_type": "display_data",
          "data": {
            "text/plain": [
              "<Figure size 432x288 with 1 Axes>"
            ],
            "image/png": "[encoded data removed]"
          },
          "metadata": {
            "needs_background": "light"
          }
        }
      ]
    },
    {
      "cell_type": "markdown",
      "source": [
        "Model 4: Lower dimensions to reduce overfitting\n"
      ],
      "metadata": {
        "id": "vI81L5bROwhU"
      }
    },
    {
      "cell_type": "code",
      "source": [
        "class NNPOSTagger(nn.Module):\n",
        "    def __init__(self,\n",
        "                 window_size,\n",
        "                 vocab_size, \n",
        "                 embedding_dim, \n",
        "                 hidden_dim, \n",
        "                 output_dim,\n",
        "                 nonlinearity, \n",
        "                 # These are used for later tasks\n",
        "                 use_glove = False, \n",
        "                 freeze_glove = False):      \n",
        "        super(NNPOSTagger, self).__init__()\n",
        "        self.window_size= window_size\n",
        "        self.vocab_size= vocab_size\n",
        "        self.embedding_dim= embedding_dim\n",
        "        self.hidden_dim= hidden_dim\n",
        "        self.output_dim= output_dim\n",
        "        self.nonlinearity= nonlinearity\n",
        "\n",
        "        self.layer1 = nn.Linear(window_size*embedding_dim, hidden_dim)\n",
        "\n",
        "        self.layer2 = nn.Linear(hidden_dim, output_dim)\n",
        "        self.embedding = nn.Embedding(vocab_size, embedding_dim)\n",
        "      \n",
        "        \n",
        "    def forward(self, word_idxs_batch):\n",
        "        \n",
        "        ## WRITE YOUR CODE BELOW.\n",
        "\n",
        "        embedded = self.embedding(word_idxs_batch)\n",
        "        embedded_final = embedded.view(len(word_idxs_batch), 600)\n",
        "\n",
        "        output1 = self.layer1(embedded_final) # will be fed into to get h\n",
        "        h = self.nonlinearity(output1) # calculating h\n",
        "        y_tilda = self.layer2(h) #calculating  y-tilde\n",
        "\n",
        "        y_hat= nn.functional.log_softmax(y_tilda, dim=1)\n",
        "\n",
        "        return y_hat # this should be of output dimension shape\n",
        "\n",
        "\n",
        "model = NNPOSTagger(window_size = WINDOW_SIZE, \n",
        "                    vocab_size = len(vocab_words), \n",
        "                     embedding_dim = 200, \n",
        "                     hidden_dim = 64, \n",
        "                     output_dim = len(vocab_ud),\n",
        "                     nonlinearity = nn.Tanh(), \n",
        "                     use_glove = False,\n",
        "                     freeze_glove = False).to(device)\n",
        "\n",
        "EPOCHS = 30 # epoch\n",
        "optimizer = torch.optim.Adam(model.parameters(), lr=1e-4)\n",
        "\n",
        "accuracies_val_mod4=[]\n",
        "accuracies_train_mod4=[]\n",
        "for epoch in range(1, EPOCHS + 1):\n",
        "    epoch_start_time = time.time()\n",
        "    train_an_epoch(train_dataloader)\n",
        "    accuracy_train = get_accuracy(train_dataloader)\n",
        "    accuracies_train_mod4.append(accuracy_train)\n",
        "\n",
        "    accuracy_val = get_accuracy(val_dataloader)\n",
        "    accuracies_val_mod4.append(accuracy_val)\n",
        "    time_taken = time.time() - epoch_start_time\n",
        "    print(f'Epoch: {epoch}, time taken: {time_taken:.1f}s, validation accuracy: {accuracy_val:.3f}.')"
      ],
      "metadata": {
        "colab": {
          "base_uri": "https://localhost:8080/"
        },
        "id": "BPxQ-IOfO3Kj",
        "outputId": "c0080152-38bc-4ebe-8b66-f019d1618e8c"
      },
      "execution_count": 59,
      "outputs": [
        {
          "output_type": "stream",
          "name": "stdout",
          "text": [
            "At iteration 500 the loss is 2.031.\n",
            "Epoch: 1, time taken: 8.4s, validation accuracy: 0.556.\n",
            "At iteration 500 the loss is 1.073.\n",
            "Epoch: 2, time taken: 7.6s, validation accuracy: 0.620.\n",
            "At iteration 500 the loss is 1.104.\n",
            "Epoch: 3, time taken: 7.7s, validation accuracy: 0.646.\n",
            "At iteration 500 the loss is 0.804.\n",
            "Epoch: 4, time taken: 7.8s, validation accuracy: 0.664.\n",
            "At iteration 500 the loss is 0.741.\n",
            "Epoch: 5, time taken: 7.9s, validation accuracy: 0.682.\n",
            "At iteration 500 the loss is 0.803.\n",
            "Epoch: 6, time taken: 8.2s, validation accuracy: 0.695.\n",
            "At iteration 500 the loss is 0.680.\n",
            "Epoch: 7, time taken: 7.7s, validation accuracy: 0.703.\n",
            "At iteration 500 the loss is 0.712.\n",
            "Epoch: 8, time taken: 7.9s, validation accuracy: 0.713.\n",
            "At iteration 500 the loss is 0.501.\n",
            "Epoch: 9, time taken: 7.6s, validation accuracy: 0.722.\n",
            "At iteration 500 the loss is 0.312.\n",
            "Epoch: 10, time taken: 7.5s, validation accuracy: 0.725.\n",
            "At iteration 500 the loss is 0.661.\n",
            "Epoch: 11, time taken: 7.8s, validation accuracy: 0.732.\n",
            "At iteration 500 the loss is 0.330.\n",
            "Epoch: 12, time taken: 7.6s, validation accuracy: 0.733.\n",
            "At iteration 500 the loss is 0.345.\n",
            "Epoch: 13, time taken: 9.1s, validation accuracy: 0.740.\n",
            "At iteration 500 the loss is 0.441.\n",
            "Epoch: 14, time taken: 7.6s, validation accuracy: 0.747.\n",
            "At iteration 500 the loss is 0.470.\n",
            "Epoch: 15, time taken: 7.5s, validation accuracy: 0.752.\n",
            "At iteration 500 the loss is 0.447.\n",
            "Epoch: 16, time taken: 7.6s, validation accuracy: 0.753.\n",
            "At iteration 500 the loss is 0.386.\n",
            "Epoch: 17, time taken: 7.4s, validation accuracy: 0.755.\n",
            "At iteration 500 the loss is 0.211.\n",
            "Epoch: 18, time taken: 7.7s, validation accuracy: 0.759.\n",
            "At iteration 500 the loss is 0.240.\n",
            "Epoch: 19, time taken: 8.0s, validation accuracy: 0.761.\n",
            "At iteration 500 the loss is 0.383.\n",
            "Epoch: 20, time taken: 8.9s, validation accuracy: 0.761.\n",
            "At iteration 500 the loss is 0.229.\n",
            "Epoch: 21, time taken: 7.7s, validation accuracy: 0.764.\n",
            "At iteration 500 the loss is 0.314.\n",
            "Epoch: 22, time taken: 7.7s, validation accuracy: 0.763.\n",
            "At iteration 500 the loss is 0.204.\n",
            "Epoch: 23, time taken: 7.8s, validation accuracy: 0.771.\n",
            "At iteration 500 the loss is 0.171.\n",
            "Epoch: 24, time taken: 7.6s, validation accuracy: 0.771.\n",
            "At iteration 500 the loss is 0.260.\n",
            "Epoch: 25, time taken: 7.5s, validation accuracy: 0.773.\n",
            "At iteration 500 the loss is 0.147.\n",
            "Epoch: 26, time taken: 8.8s, validation accuracy: 0.768.\n",
            "At iteration 500 the loss is 0.157.\n",
            "Epoch: 27, time taken: 12.3s, validation accuracy: 0.771.\n",
            "At iteration 500 the loss is 0.124.\n",
            "Epoch: 28, time taken: 10.5s, validation accuracy: 0.773.\n",
            "At iteration 500 the loss is 0.080.\n",
            "Epoch: 29, time taken: 7.6s, validation accuracy: 0.776.\n",
            "At iteration 500 the loss is 0.139.\n",
            "Epoch: 30, time taken: 7.9s, validation accuracy: 0.776.\n"
          ]
        }
      ]
    },
    {
      "cell_type": "code",
      "source": [
        "plt.plot(range(1, EPOCHS+1), accuracies_val_mod4, color='g', label='validation accuracy')\n",
        "plt.plot(range(1, EPOCHS+1), accuracies_train_mod4, color='r', label='training accuracy')\n",
        "\n",
        "plt.xlabel(\"Epochs\")\n",
        "plt.ylabel(\"Accuracy\")\n",
        "plt.title(\"Training and validation accuracies for Model 4\")\n",
        "  \n",
        "# Adding legend, which helps us recognize the curve according to it's color\n",
        "plt.legend()\n",
        "  \n",
        "# To load the display window\n",
        "plt.show()"
      ],
      "metadata": {
        "colab": {
          "base_uri": "https://localhost:8080/",
          "height": 295
        },
        "id": "NBhiwUbeP6uj",
        "outputId": "8712e3b7-1a23-43f5-b0a5-e97cb5971ec4"
      },
      "execution_count": 61,
      "outputs": [
        {
          "output_type": "display_data",
          "data": {
            "text/plain": [
              "<Figure size 432x288 with 1 Axes>"
            ],
            "image/png": "[encoded data removed]"
          },
          "metadata": {
            "needs_background": "light"
          }
        }
      ]
    }
  ]
}